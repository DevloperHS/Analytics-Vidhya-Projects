{
 "cells": [
  {
   "cell_type": "markdown",
   "id": "c728cc97",
   "metadata": {},
   "source": [
    "# Creating Transcriptions"
   ]
  },
  {
   "cell_type": "markdown",
   "id": "189b5420",
   "metadata": {},
   "source": [
    "## 1. Necessary Imports"
   ]
  },
  {
   "cell_type": "code",
   "execution_count": 10,
   "id": "065da924",
   "metadata": {},
   "outputs": [],
   "source": [
    "import requests, Constants"
   ]
  },
  {
   "cell_type": "markdown",
   "id": "591c62b5",
   "metadata": {},
   "source": [
    "## 2.1 Creating Endpoint"
   ]
  },
  {
   "cell_type": "code",
   "execution_count": 2,
   "id": "ec66b5e5",
   "metadata": {},
   "outputs": [],
   "source": [
    "end_point = \"https://api.assemblyai.com/v2/transcript\""
   ]
  },
  {
   "cell_type": "markdown",
   "id": "64123b0f",
   "metadata": {},
   "source": [
    "## 2.2 Fetching API Key"
   ]
  },
  {
   "cell_type": "code",
   "execution_count": 4,
   "id": "bf678f5f",
   "metadata": {},
   "outputs": [],
   "source": [
    "api_key = Constants.API_KEY"
   ]
  },
  {
   "cell_type": "markdown",
   "id": "525134a3",
   "metadata": {},
   "source": [
    "## 3. Adding Authorization"
   ]
  },
  {
   "cell_type": "code",
   "execution_count": 6,
   "id": "a49bc7bb",
   "metadata": {},
   "outputs": [],
   "source": [
    "headers = {\n",
    "    \"authorization\": api_key,\n",
    "    \"content-type\": \"application/json\"\n",
    "}"
   ]
  },
  {
   "cell_type": "markdown",
   "id": "7bf4483f",
   "metadata": {},
   "source": [
    "## 4. Defining Our Json Files Path"
   ]
  },
  {
   "cell_type": "code",
   "execution_count": 11,
   "id": "6055f083",
   "metadata": {},
   "outputs": [],
   "source": [
    "json = {\n",
    "    \"audio_url\": \"https://download.ted.com/products/95327.mp4\",\n",
    "    \"content_safety\": True,\n",
    "}"
   ]
  },
  {
   "cell_type": "markdown",
   "id": "ba38e457",
   "metadata": {},
   "source": [
    "# 5. Capturing Response"
   ]
  },
  {
   "cell_type": "code",
   "execution_count": 13,
   "id": "5393ec42",
   "metadata": {},
   "outputs": [
    {
     "name": "stdout",
     "output_type": "stream",
     "text": [
      "{'id': 'og50102ug1-d570-4788-955c-4e58a01e2227', 'language_model': 'assemblyai_default', 'acoustic_model': 'assemblyai_default', 'language_code': 'en_us', 'status': 'queued', 'audio_url': 'https://download.ted.com/products/95327.mp4', 'text': None, 'words': None, 'utterances': None, 'confidence': None, 'audio_duration': None, 'punctuate': True, 'format_text': True, 'dual_channel': None, 'webhook_url': None, 'webhook_status_code': None, 'speed_boost': False, 'auto_highlights_result': None, 'auto_highlights': False, 'audio_start_from': None, 'audio_end_at': None, 'word_boost': [], 'boost_param': None, 'filter_profanity': False, 'redact_pii': False, 'redact_pii_audio': False, 'redact_pii_audio_quality': None, 'redact_pii_policies': None, 'redact_pii_sub': None, 'speaker_labels': False, 'content_safety': True, 'iab_categories': False, 'content_safety_labels': {}, 'iab_categories_result': {}, 'disfluencies': False, 'sentiment_analysis': False, 'sentiment_analysis_results': None, 'auto_chapters': False, 'chapters': None, 'entity_detection': False, 'entities': None}\n"
     ]
    }
   ],
   "source": [
    "response = requests.post(end_point, json=json, headers=headers)\n",
    "print(response.json())"
   ]
  },
  {
   "cell_type": "markdown",
   "id": "160a1f5d",
   "metadata": {},
   "source": [
    "----------------------"
   ]
  },
  {
   "cell_type": "markdown",
   "id": "8ef75ae7",
   "metadata": {},
   "source": [
    "# Retriving Results"
   ]
  },
  {
   "cell_type": "markdown",
   "id": "fec34536",
   "metadata": {},
   "source": [
    "## 1. Creating End Point"
   ]
  },
  {
   "cell_type": "code",
   "execution_count": 15,
   "id": "514c71c7",
   "metadata": {},
   "outputs": [],
   "source": [
    "end_point_res = \"https://api.assemblyai.com/v2/transcript/og50102ug1-d570-4788-955c-4e58a01e2227\""
   ]
  },
  {
   "cell_type": "markdown",
   "id": "a803581a",
   "metadata": {},
   "source": [
    "## 2. Adding Authorization"
   ]
  },
  {
   "cell_type": "code",
   "execution_count": 17,
   "id": "7fe8015d",
   "metadata": {},
   "outputs": [],
   "source": [
    "auth = {\n",
    "    \"authorization\": api_key\n",
    "}"
   ]
  },
  {
   "cell_type": "markdown",
   "id": "12140ba6",
   "metadata": {},
   "source": [
    "## 3. Sending Get Request & Display"
   ]
  },
  {
   "cell_type": "code",
   "execution_count": 23,
   "id": "12daacc7",
   "metadata": {},
   "outputs": [],
   "source": [
    "response_final = requests.get(end_point_res, headers=auth)"
   ]
  },
  {
   "cell_type": "markdown",
   "id": "468f7ec5",
   "metadata": {},
   "source": [
    "## 4. Saving To File"
   ]
  },
  {
   "cell_type": "code",
   "execution_count": 21,
   "id": "1214d0f7",
   "metadata": {},
   "outputs": [],
   "source": [
    "with open('result.json', 'wb') as f:\n",
    "    f.write(response_final.content)"
   ]
  },
  {
   "cell_type": "markdown",
   "id": "286520d4",
   "metadata": {},
   "source": [
    "-----------------------------------"
   ]
  },
  {
   "cell_type": "markdown",
   "id": "eb71f183",
   "metadata": {},
   "source": [
    "# Results As Per Desired CI Scores"
   ]
  },
  {
   "cell_type": "code",
   "execution_count": 24,
   "id": "7fa7c622",
   "metadata": {},
   "outputs": [],
   "source": [
    "# adding new argument\n",
    "json_ci = {\n",
    "    \"audio_url\": \"https://download.ted.com/products/95327.mp4\",\n",
    "    \"content_safety\": True,\n",
    "    \"content_safety_confidence\" : 80\n",
    "}"
   ]
  },
  {
   "cell_type": "code",
   "execution_count": 25,
   "id": "2684deac",
   "metadata": {},
   "outputs": [],
   "source": [
    "# creating new authorization\n",
    "auth_ci = {\n",
    "    \"authorization\": api_key\n",
    "}"
   ]
  },
  {
   "cell_type": "code",
   "execution_count": 28,
   "id": "b303221b",
   "metadata": {},
   "outputs": [
    {
     "name": "stdout",
     "output_type": "stream",
     "text": [
      "{'id': 'og57ldxw4s-df89-4f97-b70f-21f71404c6d0', 'language_model': 'assemblyai_default', 'acoustic_model': 'assemblyai_default', 'language_code': 'en_us', 'status': 'queued', 'audio_url': 'https://download.ted.com/products/95327.mp4', 'text': None, 'words': None, 'utterances': None, 'confidence': None, 'audio_duration': None, 'punctuate': True, 'format_text': True, 'dual_channel': None, 'webhook_url': None, 'webhook_status_code': None, 'speed_boost': False, 'auto_highlights_result': None, 'auto_highlights': False, 'audio_start_from': None, 'audio_end_at': None, 'word_boost': [], 'boost_param': None, 'filter_profanity': False, 'redact_pii': False, 'redact_pii_audio': False, 'redact_pii_audio_quality': None, 'redact_pii_policies': None, 'redact_pii_sub': None, 'speaker_labels': False, 'content_safety': True, 'iab_categories': False, 'content_safety_labels': {}, 'iab_categories_result': {}, 'disfluencies': False, 'sentiment_analysis': False, 'sentiment_analysis_results': None, 'auto_chapters': False, 'chapters': None, 'entity_detection': False, 'entities': None}\n"
     ]
    }
   ],
   "source": [
    "# post request and print response\n",
    "response_ci = requests.post(end_point, json=json_ci, headers=auth_ci)\n",
    "print(response_ci.json())"
   ]
  },
  {
   "cell_type": "code",
   "execution_count": 27,
   "id": "460c60f6",
   "metadata": {},
   "outputs": [],
   "source": [
    "# creating result end point\n",
    "end_point_ci = \"https://api.assemblyai.com/v2/transcript/og57ldxw4s-df89-4f97-b70f-21f71404c6d0\""
   ]
  },
  {
   "cell_type": "code",
   "execution_count": 29,
   "id": "40608245",
   "metadata": {},
   "outputs": [],
   "source": [
    "# getting response\n",
    "response_ci = requests.get(end_point_ci, headers=auth_ci)"
   ]
  },
  {
   "cell_type": "code",
   "execution_count": 31,
   "id": "dc218a61",
   "metadata": {},
   "outputs": [],
   "source": [
    "# saving file\n",
    "with open('result_ci.json', 'wb') as f:\n",
    "    f.write(response_ci.content)"
   ]
  },
  {
   "cell_type": "code",
   "execution_count": null,
   "id": "b049ca46",
   "metadata": {},
   "outputs": [],
   "source": []
  }
 ],
 "metadata": {
  "kernelspec": {
   "display_name": "Python 3 (ipykernel)",
   "language": "python",
   "name": "python3"
  },
  "language_info": {
   "codemirror_mode": {
    "name": "ipython",
    "version": 3
   },
   "file_extension": ".py",
   "mimetype": "text/x-python",
   "name": "python",
   "nbconvert_exporter": "python",
   "pygments_lexer": "ipython3",
   "version": "3.7.11"
  }
 },
 "nbformat": 4,
 "nbformat_minor": 5
}
