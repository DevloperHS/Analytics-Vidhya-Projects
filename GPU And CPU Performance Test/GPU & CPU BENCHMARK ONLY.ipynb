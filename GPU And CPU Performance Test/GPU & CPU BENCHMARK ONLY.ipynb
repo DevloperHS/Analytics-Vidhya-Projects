{
 "cells": [
  {
   "cell_type": "markdown",
   "id": "b9b0493f",
   "metadata": {},
   "source": [
    "# Loading Libraries\n"
   ]
  },
  {
   "cell_type": "code",
   "execution_count": 1,
   "id": "da292aa8",
   "metadata": {},
   "outputs": [],
   "source": [
    "import tensorflow as tf\n",
    "from tensorflow import keras\n",
    "import numpy as np\n",
    "import matplotlib.pyplot as plt\n",
    "\n",
    "# tensorflow 2.0.0 , Cudnn10.0.0 and Cuda 10.1 , python 3.8"
   ]
  },
  {
   "cell_type": "code",
   "execution_count": 2,
   "id": "2781e52f",
   "metadata": {},
   "outputs": [
    {
     "data": {
      "text/plain": [
       "[PhysicalDevice(name='/physical_device:CPU:0', device_type='CPU'),\n",
       " PhysicalDevice(name='/physical_device:GPU:0', device_type='GPU')]"
      ]
     },
     "execution_count": 2,
     "metadata": {},
     "output_type": "execute_result"
    }
   ],
   "source": [
    "tf.config.experimental.list_physical_devices()"
   ]
  },
  {
   "cell_type": "code",
   "execution_count": 3,
   "id": "77af58eb",
   "metadata": {},
   "outputs": [
    {
     "data": {
      "text/plain": [
       "True"
      ]
     },
     "execution_count": 3,
     "metadata": {},
     "output_type": "execute_result"
    }
   ],
   "source": [
    "tf.test.is_built_with_cuda()"
   ]
  },
  {
   "cell_type": "markdown",
   "id": "5a2d65fc",
   "metadata": {},
   "source": [
    "# Loading Dataset\n",
    "\n",
    "60000- 32x32 colour images in 10 classes, with 6000 images per class. \n",
    "- 50000 train images \n",
    "- 10000 test images\n",
    "\n",
    "Training will be done using ANN - instead of CNN to keep things simple and understandable"
   ]
  },
  {
   "cell_type": "code",
   "execution_count": 4,
   "id": "0b3e1088",
   "metadata": {},
   "outputs": [],
   "source": [
    "(X_train, y_train), (X_test, y_test) = keras.datasets.cifar10.load_data()"
   ]
  },
  {
   "cell_type": "markdown",
   "id": "30310012",
   "metadata": {},
   "source": [
    "# EDA"
   ]
  },
  {
   "cell_type": "code",
   "execution_count": 5,
   "id": "adb4d4ab",
   "metadata": {},
   "outputs": [
    {
     "data": {
      "text/plain": [
       "((50000, 32, 32, 3), (10000, 32, 32, 3))"
      ]
     },
     "execution_count": 5,
     "metadata": {},
     "output_type": "execute_result"
    }
   ],
   "source": [
    "# checking images shape\n",
    "X_train.shape, X_test.shape"
   ]
  },
  {
   "cell_type": "code",
   "execution_count": 6,
   "id": "15403190",
   "metadata": {},
   "outputs": [
    {
     "data": {
      "text/plain": [
       "(32, 32, 3)"
      ]
     },
     "execution_count": 6,
     "metadata": {},
     "output_type": "execute_result"
    }
   ],
   "source": [
    "# display single image shape\n",
    "X_train[0].shape"
   ]
  },
  {
   "cell_type": "code",
   "execution_count": 7,
   "id": "0d5c7b5e",
   "metadata": {},
   "outputs": [
    {
     "data": {
      "text/plain": [
       "array([[6],\n",
       "       [9],\n",
       "       [9],\n",
       "       [4],\n",
       "       [1]], dtype=uint8)"
      ]
     },
     "execution_count": 7,
     "metadata": {},
     "output_type": "execute_result"
    }
   ],
   "source": [
    "# checking labels\n",
    "y_train[:5]"
   ]
  },
  {
   "cell_type": "markdown",
   "id": "775b2d6c",
   "metadata": {},
   "source": [
    "# Pre-Processing"
   ]
  },
  {
   "cell_type": "code",
   "execution_count": 8,
   "id": "eb068cc9",
   "metadata": {},
   "outputs": [],
   "source": [
    "# scaling image values between 0-1\n",
    "X_train_scaled = X_train/255\n",
    "X_test_scaled = X_test/255"
   ]
  },
  {
   "cell_type": "code",
   "execution_count": 9,
   "id": "7d2c94a4",
   "metadata": {},
   "outputs": [],
   "source": [
    "# one hot encoding labels\n",
    "y_train_encoded = keras.utils.to_categorical(y_train, num_classes = 10, dtype = 'float32')\n",
    "y_test_encoded = keras.utils.to_categorical(y_test, num_classes = 10, dtype = 'float32')"
   ]
  },
  {
   "cell_type": "markdown",
   "id": "43e93444",
   "metadata": {},
   "source": [
    "# Model Building\n",
    "- Flatten : Converts 32*32*32 into single 3072 vector\n",
    "- Dense : Units > 3000, activation fn > relu\n",
    "- Dense : Units > 1000, activation fn > relu\n",
    "- Dense : Units > 10,   activation fn > sigmoid (output probabilities)\n",
    "\n",
    "- Optimizer : Adam\n",
    "- Loss Fn : Categorical Cross Entropy\n",
    "- Monitor Metric : Accuracy \n",
    "        "
   ]
  },
  {
   "cell_type": "code",
   "execution_count": 11,
   "id": "f8fc78e9",
   "metadata": {},
   "outputs": [],
   "source": [
    "def get_model():\n",
    "    model = keras.Sequential([\n",
    "        keras.layers.Flatten(input_shape=(32,32,3)),\n",
    "        keras.layers.Dense(3000, activation='relu'),\n",
    "        keras.layers.Dense(1000, activation='relu'),\n",
    "        keras.layers.Dense(10, activation='sigmoid')    \n",
    "    ])\n",
    "\n",
    "    model.compile(optimizer='SGD',\n",
    "              loss='categorical_crossentropy',\n",
    "              metrics=['accuracy'])\n",
    "    \n",
    "    return model"
   ]
  },
  {
   "cell_type": "code",
   "execution_count": 12,
   "id": "924bb785",
   "metadata": {},
   "outputs": [
    {
     "name": "stdout",
     "output_type": "stream",
     "text": [
      "Model: \"sequential\"\n",
      "_________________________________________________________________\n",
      "Layer (type)                 Output Shape              Param #   \n",
      "=================================================================\n",
      "flatten (Flatten)            (None, 3072)              0         \n",
      "_________________________________________________________________\n",
      "dense (Dense)                (None, 3000)              9219000   \n",
      "_________________________________________________________________\n",
      "dense_1 (Dense)              (None, 1000)              3001000   \n",
      "_________________________________________________________________\n",
      "dense_2 (Dense)              (None, 10)                10010     \n",
      "=================================================================\n",
      "Total params: 12,230,010\n",
      "Trainable params: 12,230,010\n",
      "Non-trainable params: 0\n",
      "_________________________________________________________________\n"
     ]
    }
   ],
   "source": [
    "model = get_model()\n",
    "\n",
    "model.summary()"
   ]
  },
  {
   "cell_type": "markdown",
   "id": "487ac190",
   "metadata": {},
   "source": [
    "# Benchmarking On 1 Epoch"
   ]
  },
  {
   "cell_type": "code",
   "execution_count": 25,
   "id": "4f929c65",
   "metadata": {},
   "outputs": [
    {
     "name": "stdout",
     "output_type": "stream",
     "text": [
      "Train on 50000 samples\n",
      "50000/50000 [==============================] - 86s 2ms/sample - loss: 1.8570 - accuracy: 0.3346\n",
      "1min 29s ± 0 ns per loop (mean ± std. dev. of 1 run, 1 loop each)\n"
     ]
    }
   ],
   "source": [
    "%%timeit -n1 -r1\n",
    "\n",
    "# CPU\n",
    "with tf.device('/CPU:0'):\n",
    "    model_cpu = get_model()\n",
    "    \n",
    "    model_cpu.fit(X_train_scaled, y_train_encoded, epochs = 1)"
   ]
  },
  {
   "cell_type": "code",
   "execution_count": 24,
   "id": "46fe24dc",
   "metadata": {},
   "outputs": [
    {
     "name": "stdout",
     "output_type": "stream",
     "text": [
      "Train on 50000 samples\n",
      "50000/50000 [==============================] - 14s 270us/sample - loss: 1.8605 - accuracy: 0.3320\n",
      "21.7 s ± 0 ns per loop (mean ± std. dev. of 1 run, 1 loop each)\n"
     ]
    }
   ],
   "source": [
    "%%timeit -n1 -r1\n",
    "# GPU\n",
    "with tf.device('/GPU:0'):\n",
    "    model_gpu = get_model()\n",
    "    \n",
    "    model_gpu.fit(X_train_scaled, y_train_encoded, epochs = 1)"
   ]
  },
  {
   "cell_type": "markdown",
   "id": "aef5668d",
   "metadata": {},
   "source": [
    "# Benchmarking On 10 Epoch"
   ]
  },
  {
   "cell_type": "code",
   "execution_count": 29,
   "id": "4e6c6099",
   "metadata": {},
   "outputs": [
    {
     "name": "stdout",
     "output_type": "stream",
     "text": [
      "Train on 50000 samples\n",
      "Epoch 1/10\n",
      "50000/50000 [==============================] - 89s 2ms/sample - loss: 1.8609 - accuracy: 0.3330\n",
      "Epoch 2/10\n",
      "50000/50000 [==============================] - 89s 2ms/sample - loss: 1.6613 - accuracy: 0.4099\n",
      "Epoch 3/10\n",
      "50000/50000 [==============================] - 85s 2ms/sample - loss: 1.5713 - accuracy: 0.4437\n",
      "Epoch 4/10\n",
      "50000/50000 [==============================] - 86s 2ms/sample - loss: 1.5089 - accuracy: 0.4677\n",
      "Epoch 5/10\n",
      "50000/50000 [==============================] - 84s 2ms/sample - loss: 1.4582 - accuracy: 0.4868\n",
      "Epoch 6/10\n",
      "50000/50000 [==============================] - 83s 2ms/sample - loss: 1.4156 - accuracy: 0.5011s - loss: 1 - ETA: 0s - loss: 1.4\n",
      "Epoch 7/10\n",
      "50000/50000 [==============================] - 86s 2ms/sample - loss: 1.3756 - accuracy: 0.5145\n",
      "Epoch 8/10\n",
      "50000/50000 [==============================] - 81s 2ms/sample - loss: 1.3389 - accuracy: 0.5283\n",
      "Epoch 9/10\n",
      "50000/50000 [==============================] - 86s 2ms/sample - loss: 1.3085 - accuracy: 0.5414\n",
      "Epoch 10/10\n",
      "50000/50000 [==============================] - 80s 2ms/sample - loss: 1.2764 - accuracy: 0.5506\n",
      "14min 9s ± 0 ns per loop (mean ± std. dev. of 1 run, 1 loop each)\n"
     ]
    }
   ],
   "source": [
    "%%timeit -n1 -r1\n",
    "\n",
    "# CPU\n",
    "with tf.device('/CPU:0'):\n",
    "    model_cpu = get_model()\n",
    "    \n",
    "    model_cpu.fit(X_train_scaled, y_train_encoded, epochs = 10, verbose = 0)"
   ]
  },
  {
   "cell_type": "code",
   "execution_count": 26,
   "id": "d0fbd259",
   "metadata": {},
   "outputs": [
    {
     "name": "stdout",
     "output_type": "stream",
     "text": [
      "Train on 50000 samples\n",
      "Epoch 1/10\n",
      "50000/50000 [==============================] - 12s 240us/sample - loss: 1.8600 - accuracy: 0.3347\n",
      "Epoch 2/10\n",
      "50000/50000 [==============================] - 12s 235us/sample - loss: 1.6587 - accuracy: 0.4112\n",
      "Epoch 3/10\n",
      "50000/50000 [==============================] - 12s 230us/sample - loss: 1.5690 - accuracy: 0.4448\n",
      "Epoch 4/10\n",
      "50000/50000 [==============================] - 10s 206us/sample - loss: 1.5075 - accuracy: 0.4684\n",
      "Epoch 5/10\n",
      "50000/50000 [==============================] - 11s 211us/sample - loss: 1.4576 - accuracy: 0.4858\n",
      "Epoch 6/10\n",
      "50000/50000 [==============================] - 11s 224us/sample - loss: 1.4119 - accuracy: 0.5045\n",
      "Epoch 7/10\n",
      "50000/50000 [==============================] - 11s 217us/sample - loss: 1.3734 - accuracy: 0.5183\n",
      "Epoch 8/10\n",
      "50000/50000 [==============================] - 11s 216us/sample - loss: 1.3368 - accuracy: 0.5305\n",
      "Epoch 9/10\n",
      "50000/50000 [==============================] - 11s 221us/sample - loss: 1.3046 - accuracy: 0.5391\n",
      "Epoch 10/10\n",
      "50000/50000 [==============================] - 11s 227us/sample - loss: 1.2748 - accuracy: 0.5533\n",
      "1min 55s ± 0 ns per loop (mean ± std. dev. of 1 run, 1 loop each)\n"
     ]
    }
   ],
   "source": [
    "%%timeit -n1 -r1\n",
    "# GPU\n",
    "with tf.device('/GPU:0'):\n",
    "    model_gpu = get_model()\n",
    "    \n",
    "    model_gpu.fit(X_train_scaled, y_train_encoded, epochs = 10, verbose = 0)"
   ]
  },
  {
   "cell_type": "markdown",
   "id": "552e5e46",
   "metadata": {},
   "source": [
    "**Performance Comparison**\n",
    "\n",
    "| EPOCHS | CPU | GPU  |\n",
    "|:------|:------|:------|\n",
    "| 1 | 1min 29sec | 21.7sec  |\n",
    "| 10 |14min 9sec | 1min 55sec |\n",
    "\n"
   ]
  },
  {
   "cell_type": "code",
   "execution_count": null,
   "id": "c9f3f0f5",
   "metadata": {},
   "outputs": [],
   "source": []
  }
 ],
 "metadata": {
  "kernelspec": {
   "display_name": "tf_gpu",
   "language": "python",
   "name": "tf_gpu"
  },
  "language_info": {
   "codemirror_mode": {
    "name": "ipython",
    "version": 3
   },
   "file_extension": ".py",
   "mimetype": "text/x-python",
   "name": "python",
   "nbconvert_exporter": "python",
   "pygments_lexer": "ipython3",
   "version": "3.6.13"
  }
 },
 "nbformat": 4,
 "nbformat_minor": 5
}
