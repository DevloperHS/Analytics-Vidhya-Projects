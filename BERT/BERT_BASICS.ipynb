{
  "nbformat": 4,
  "nbformat_minor": 0,
  "metadata": {
    "colab": {
      "name": "BERT BASICS.ipynb",
      "provenance": [],
      "collapsed_sections": [],
      "toc_visible": true
    },
    "kernelspec": {
      "name": "python3",
      "display_name": "Python 3"
    },
    "language_info": {
      "name": "python"
    }
  },
  "cells": [
    {
      "cell_type": "markdown",
      "metadata": {
        "id": "kVfX0gySiFgK"
      },
      "source": [
        "# Introduction"
      ]
    },
    {
      "cell_type": "markdown",
      "metadata": {
        "id": "zKaGCzpHi7XP"
      },
      "source": [
        "# Practical"
      ]
    },
    {
      "cell_type": "markdown",
      "metadata": {
        "id": "OF3VCjt8jHKI"
      },
      "source": [
        "## Downloading Required Files\n",
        "- `tensorflow_hub` - Repository for all trained model for use cases\n",
        "- `tensorflow_text` - TF.Text is a TensorFlow library of text related ops, modules, and subgraphs. The library can perform the preprocessing regularly required by text-based models, and includes other features useful for sequence modeling not provided by core TensorFlow."
      ]
    },
    {
      "cell_type": "code",
      "metadata": {
        "id": "oQJPL0PYi2Wc",
        "colab": {
          "base_uri": "https://localhost:8080/"
        },
        "outputId": "1333d01f-095c-4bb2-c1fc-f71fd80431c2"
      },
      "source": [
        "pip install tensorflow-text"
      ],
      "execution_count": null,
      "outputs": [
        {
          "output_type": "stream",
          "text": [
            "Collecting tensorflow-text\n",
            "  Downloading tensorflow_text-2.6.0-cp37-cp37m-manylinux1_x86_64.whl (4.4 MB)\n",
            "\u001b[K     |████████████████████████████████| 4.4 MB 5.2 MB/s \n",
            "\u001b[?25hRequirement already satisfied: tensorflow-hub>=0.8.0 in /usr/local/lib/python3.7/dist-packages (from tensorflow-text) (0.12.0)\n",
            "Requirement already satisfied: tensorflow<2.7,>=2.6.0 in /usr/local/lib/python3.7/dist-packages (from tensorflow-text) (2.6.0)\n",
            "Requirement already satisfied: google-pasta~=0.2 in /usr/local/lib/python3.7/dist-packages (from tensorflow<2.7,>=2.6.0->tensorflow-text) (0.2.0)\n",
            "Requirement already satisfied: h5py~=3.1.0 in /usr/local/lib/python3.7/dist-packages (from tensorflow<2.7,>=2.6.0->tensorflow-text) (3.1.0)\n",
            "Requirement already satisfied: keras~=2.6 in /usr/local/lib/python3.7/dist-packages (from tensorflow<2.7,>=2.6.0->tensorflow-text) (2.6.0)\n",
            "Requirement already satisfied: termcolor~=1.1.0 in /usr/local/lib/python3.7/dist-packages (from tensorflow<2.7,>=2.6.0->tensorflow-text) (1.1.0)\n",
            "Requirement already satisfied: wheel~=0.35 in /usr/local/lib/python3.7/dist-packages (from tensorflow<2.7,>=2.6.0->tensorflow-text) (0.37.0)\n",
            "Requirement already satisfied: wrapt~=1.12.1 in /usr/local/lib/python3.7/dist-packages (from tensorflow<2.7,>=2.6.0->tensorflow-text) (1.12.1)\n",
            "Requirement already satisfied: tensorflow-estimator~=2.6 in /usr/local/lib/python3.7/dist-packages (from tensorflow<2.7,>=2.6.0->tensorflow-text) (2.6.0)\n",
            "Requirement already satisfied: six~=1.15.0 in /usr/local/lib/python3.7/dist-packages (from tensorflow<2.7,>=2.6.0->tensorflow-text) (1.15.0)\n",
            "Requirement already satisfied: clang~=5.0 in /usr/local/lib/python3.7/dist-packages (from tensorflow<2.7,>=2.6.0->tensorflow-text) (5.0)\n",
            "Requirement already satisfied: tensorboard~=2.6 in /usr/local/lib/python3.7/dist-packages (from tensorflow<2.7,>=2.6.0->tensorflow-text) (2.6.0)\n",
            "Requirement already satisfied: astunparse~=1.6.3 in /usr/local/lib/python3.7/dist-packages (from tensorflow<2.7,>=2.6.0->tensorflow-text) (1.6.3)\n",
            "Requirement already satisfied: grpcio<2.0,>=1.37.0 in /usr/local/lib/python3.7/dist-packages (from tensorflow<2.7,>=2.6.0->tensorflow-text) (1.39.0)\n",
            "Requirement already satisfied: protobuf>=3.9.2 in /usr/local/lib/python3.7/dist-packages (from tensorflow<2.7,>=2.6.0->tensorflow-text) (3.17.3)\n",
            "Requirement already satisfied: gast==0.4.0 in /usr/local/lib/python3.7/dist-packages (from tensorflow<2.7,>=2.6.0->tensorflow-text) (0.4.0)\n",
            "Requirement already satisfied: opt-einsum~=3.3.0 in /usr/local/lib/python3.7/dist-packages (from tensorflow<2.7,>=2.6.0->tensorflow-text) (3.3.0)\n",
            "Requirement already satisfied: typing-extensions~=3.7.4 in /usr/local/lib/python3.7/dist-packages (from tensorflow<2.7,>=2.6.0->tensorflow-text) (3.7.4.3)\n",
            "Requirement already satisfied: flatbuffers~=1.12.0 in /usr/local/lib/python3.7/dist-packages (from tensorflow<2.7,>=2.6.0->tensorflow-text) (1.12)\n",
            "Requirement already satisfied: numpy~=1.19.2 in /usr/local/lib/python3.7/dist-packages (from tensorflow<2.7,>=2.6.0->tensorflow-text) (1.19.5)\n",
            "Requirement already satisfied: absl-py~=0.10 in /usr/local/lib/python3.7/dist-packages (from tensorflow<2.7,>=2.6.0->tensorflow-text) (0.12.0)\n",
            "Requirement already satisfied: keras-preprocessing~=1.1.2 in /usr/local/lib/python3.7/dist-packages (from tensorflow<2.7,>=2.6.0->tensorflow-text) (1.1.2)\n",
            "Requirement already satisfied: cached-property in /usr/local/lib/python3.7/dist-packages (from h5py~=3.1.0->tensorflow<2.7,>=2.6.0->tensorflow-text) (1.5.2)\n",
            "Requirement already satisfied: google-auth-oauthlib<0.5,>=0.4.1 in /usr/local/lib/python3.7/dist-packages (from tensorboard~=2.6->tensorflow<2.7,>=2.6.0->tensorflow-text) (0.4.5)\n",
            "Requirement already satisfied: tensorboard-plugin-wit>=1.6.0 in /usr/local/lib/python3.7/dist-packages (from tensorboard~=2.6->tensorflow<2.7,>=2.6.0->tensorflow-text) (1.8.0)\n",
            "Requirement already satisfied: werkzeug>=0.11.15 in /usr/local/lib/python3.7/dist-packages (from tensorboard~=2.6->tensorflow<2.7,>=2.6.0->tensorflow-text) (1.0.1)\n",
            "Requirement already satisfied: requests<3,>=2.21.0 in /usr/local/lib/python3.7/dist-packages (from tensorboard~=2.6->tensorflow<2.7,>=2.6.0->tensorflow-text) (2.23.0)\n",
            "Requirement already satisfied: tensorboard-data-server<0.7.0,>=0.6.0 in /usr/local/lib/python3.7/dist-packages (from tensorboard~=2.6->tensorflow<2.7,>=2.6.0->tensorflow-text) (0.6.1)\n",
            "Requirement already satisfied: google-auth<2,>=1.6.3 in /usr/local/lib/python3.7/dist-packages (from tensorboard~=2.6->tensorflow<2.7,>=2.6.0->tensorflow-text) (1.34.0)\n",
            "Requirement already satisfied: setuptools>=41.0.0 in /usr/local/lib/python3.7/dist-packages (from tensorboard~=2.6->tensorflow<2.7,>=2.6.0->tensorflow-text) (57.4.0)\n",
            "Requirement already satisfied: markdown>=2.6.8 in /usr/local/lib/python3.7/dist-packages (from tensorboard~=2.6->tensorflow<2.7,>=2.6.0->tensorflow-text) (3.3.4)\n",
            "Requirement already satisfied: rsa<5,>=3.1.4 in /usr/local/lib/python3.7/dist-packages (from google-auth<2,>=1.6.3->tensorboard~=2.6->tensorflow<2.7,>=2.6.0->tensorflow-text) (4.7.2)\n",
            "Requirement already satisfied: cachetools<5.0,>=2.0.0 in /usr/local/lib/python3.7/dist-packages (from google-auth<2,>=1.6.3->tensorboard~=2.6->tensorflow<2.7,>=2.6.0->tensorflow-text) (4.2.2)\n",
            "Requirement already satisfied: pyasn1-modules>=0.2.1 in /usr/local/lib/python3.7/dist-packages (from google-auth<2,>=1.6.3->tensorboard~=2.6->tensorflow<2.7,>=2.6.0->tensorflow-text) (0.2.8)\n",
            "Requirement already satisfied: requests-oauthlib>=0.7.0 in /usr/local/lib/python3.7/dist-packages (from google-auth-oauthlib<0.5,>=0.4.1->tensorboard~=2.6->tensorflow<2.7,>=2.6.0->tensorflow-text) (1.3.0)\n",
            "Requirement already satisfied: importlib-metadata in /usr/local/lib/python3.7/dist-packages (from markdown>=2.6.8->tensorboard~=2.6->tensorflow<2.7,>=2.6.0->tensorflow-text) (4.6.4)\n",
            "Requirement already satisfied: pyasn1<0.5.0,>=0.4.6 in /usr/local/lib/python3.7/dist-packages (from pyasn1-modules>=0.2.1->google-auth<2,>=1.6.3->tensorboard~=2.6->tensorflow<2.7,>=2.6.0->tensorflow-text) (0.4.8)\n",
            "Requirement already satisfied: idna<3,>=2.5 in /usr/local/lib/python3.7/dist-packages (from requests<3,>=2.21.0->tensorboard~=2.6->tensorflow<2.7,>=2.6.0->tensorflow-text) (2.10)\n",
            "Requirement already satisfied: certifi>=2017.4.17 in /usr/local/lib/python3.7/dist-packages (from requests<3,>=2.21.0->tensorboard~=2.6->tensorflow<2.7,>=2.6.0->tensorflow-text) (2021.5.30)\n",
            "Requirement already satisfied: chardet<4,>=3.0.2 in /usr/local/lib/python3.7/dist-packages (from requests<3,>=2.21.0->tensorboard~=2.6->tensorflow<2.7,>=2.6.0->tensorflow-text) (3.0.4)\n",
            "Requirement already satisfied: urllib3!=1.25.0,!=1.25.1,<1.26,>=1.21.1 in /usr/local/lib/python3.7/dist-packages (from requests<3,>=2.21.0->tensorboard~=2.6->tensorflow<2.7,>=2.6.0->tensorflow-text) (1.24.3)\n",
            "Requirement already satisfied: oauthlib>=3.0.0 in /usr/local/lib/python3.7/dist-packages (from requests-oauthlib>=0.7.0->google-auth-oauthlib<0.5,>=0.4.1->tensorboard~=2.6->tensorflow<2.7,>=2.6.0->tensorflow-text) (3.1.1)\n",
            "Requirement already satisfied: zipp>=0.5 in /usr/local/lib/python3.7/dist-packages (from importlib-metadata->markdown>=2.6.8->tensorboard~=2.6->tensorflow<2.7,>=2.6.0->tensorflow-text) (3.5.0)\n",
            "Installing collected packages: tensorflow-text\n",
            "Successfully installed tensorflow-text-2.6.0\n"
          ],
          "name": "stdout"
        }
      ]
    },
    {
      "cell_type": "code",
      "metadata": {
        "id": "igxK6RmpiEaH"
      },
      "source": [
        "# importing libraries\n",
        "import tensorflow_hub as hub\n",
        "import tensorflow_text as text"
      ],
      "execution_count": null,
      "outputs": []
    },
    {
      "cell_type": "markdown",
      "metadata": {
        "id": "Q7G5amEWjvDc"
      },
      "source": [
        "## Setting the downloading path url\n",
        "- For Preprocessor\n",
        "- For Encoder"
      ]
    },
    {
      "cell_type": "code",
      "metadata": {
        "id": "_REEWGkzj42Y"
      },
      "source": [
        "preprocess_url = \"https://tfhub.dev/tensorflow/bert_en_uncased_preprocess/3\"\n",
        "encoder_url = \"https://tfhub.dev/tensorflow/bert_en_uncased_L-12_H-768_A-12/4\""
      ],
      "execution_count": null,
      "outputs": []
    },
    {
      "cell_type": "markdown",
      "metadata": {
        "id": "5R8CTnUxkdwI"
      },
      "source": [
        "## Creating Preprocessing Objects\n",
        "- Use hub layers to achive it as it makes the object as a function pointer , where one can pass some values\n",
        "- bert_preprocess : preprocessing text, , returns a dictionart object\n",
        "- test_text : - text which we will pass to bert_preprocess() to get the preprocessed text\n"
      ]
    },
    {
      "cell_type": "code",
      "metadata": {
        "id": "GwCgTAVXkn0f"
      },
      "source": [
        "# creating hub layers\n",
        "bert_preprocess_model = hub.KerasLayer(preprocess_url)"
      ],
      "execution_count": null,
      "outputs": []
    },
    {
      "cell_type": "code",
      "metadata": {
        "id": "gzm3tTa8nKF1"
      },
      "source": [
        "# creating testing text\n",
        "test_text = ['I love pizza', 'India is my country', 'Italy is fun place to visit']"
      ],
      "execution_count": null,
      "outputs": []
    },
    {
      "cell_type": "code",
      "metadata": {
        "colab": {
          "base_uri": "https://localhost:8080/"
        },
        "id": "dvw_ZPEYnrK_",
        "outputId": "d271ce5e-efd0-4539-83f2-6336769e67bb"
      },
      "source": [
        "# preprocessing text\n",
        "text_preprocessed = bert_preprocess_model(test_text)\n",
        "text_preprocessed.keys()"
      ],
      "execution_count": null,
      "outputs": [
        {
          "output_type": "execute_result",
          "data": {
            "text/plain": [
              "dict_keys(['input_mask', 'input_word_ids', 'input_type_ids'])"
            ]
          },
          "metadata": {},
          "execution_count": 6
        }
      ]
    },
    {
      "cell_type": "markdown",
      "metadata": {
        "id": "0ujPKT5IoC2L"
      },
      "source": [
        "## Understanding Preprocessed Dictonary Keys\n",
        "\n",
        "- input_mask\n",
        "- input_type_ids\n",
        "- input_words_ids\n"
      ]
    },
    {
      "cell_type": "markdown",
      "metadata": {
        "id": "8vyp5vIuYWui"
      },
      "source": [
        "### Input Mask\n",
        "\n",
        "- A mask of the words in a sentence - all masks starts with `CLF` token and `SEP` token\n",
        "- So the masked array is `sentence size + 2`\n",
        "- The token is defined for CLF - 101 and SEP - 102\n",
        "- Tensor shape - (no of sentence, 128- maximum length of sentence- other padded with zeors as no values present)"
      ]
    },
    {
      "cell_type": "code",
      "metadata": {
        "id": "wiV7wZlnoBhM",
        "colab": {
          "base_uri": "https://localhost:8080/"
        },
        "outputId": "7837a403-a0fc-438f-c520-88f5eb364798"
      },
      "source": [
        "# input_mask \n",
        "text_preprocessed['input_mask']"
      ],
      "execution_count": null,
      "outputs": [
        {
          "output_type": "execute_result",
          "data": {
            "text/plain": [
              "<tf.Tensor: shape=(3, 128), dtype=int32, numpy=\n",
              "array([[1, 1, 1, 1, 1, 0, 0, 0, 0, 0, 0, 0, 0, 0, 0, 0, 0, 0, 0, 0, 0, 0,\n",
              "        0, 0, 0, 0, 0, 0, 0, 0, 0, 0, 0, 0, 0, 0, 0, 0, 0, 0, 0, 0, 0, 0,\n",
              "        0, 0, 0, 0, 0, 0, 0, 0, 0, 0, 0, 0, 0, 0, 0, 0, 0, 0, 0, 0, 0, 0,\n",
              "        0, 0, 0, 0, 0, 0, 0, 0, 0, 0, 0, 0, 0, 0, 0, 0, 0, 0, 0, 0, 0, 0,\n",
              "        0, 0, 0, 0, 0, 0, 0, 0, 0, 0, 0, 0, 0, 0, 0, 0, 0, 0, 0, 0, 0, 0,\n",
              "        0, 0, 0, 0, 0, 0, 0, 0, 0, 0, 0, 0, 0, 0, 0, 0, 0, 0],\n",
              "       [1, 1, 1, 1, 1, 1, 0, 0, 0, 0, 0, 0, 0, 0, 0, 0, 0, 0, 0, 0, 0, 0,\n",
              "        0, 0, 0, 0, 0, 0, 0, 0, 0, 0, 0, 0, 0, 0, 0, 0, 0, 0, 0, 0, 0, 0,\n",
              "        0, 0, 0, 0, 0, 0, 0, 0, 0, 0, 0, 0, 0, 0, 0, 0, 0, 0, 0, 0, 0, 0,\n",
              "        0, 0, 0, 0, 0, 0, 0, 0, 0, 0, 0, 0, 0, 0, 0, 0, 0, 0, 0, 0, 0, 0,\n",
              "        0, 0, 0, 0, 0, 0, 0, 0, 0, 0, 0, 0, 0, 0, 0, 0, 0, 0, 0, 0, 0, 0,\n",
              "        0, 0, 0, 0, 0, 0, 0, 0, 0, 0, 0, 0, 0, 0, 0, 0, 0, 0],\n",
              "       [1, 1, 1, 1, 1, 1, 1, 1, 0, 0, 0, 0, 0, 0, 0, 0, 0, 0, 0, 0, 0, 0,\n",
              "        0, 0, 0, 0, 0, 0, 0, 0, 0, 0, 0, 0, 0, 0, 0, 0, 0, 0, 0, 0, 0, 0,\n",
              "        0, 0, 0, 0, 0, 0, 0, 0, 0, 0, 0, 0, 0, 0, 0, 0, 0, 0, 0, 0, 0, 0,\n",
              "        0, 0, 0, 0, 0, 0, 0, 0, 0, 0, 0, 0, 0, 0, 0, 0, 0, 0, 0, 0, 0, 0,\n",
              "        0, 0, 0, 0, 0, 0, 0, 0, 0, 0, 0, 0, 0, 0, 0, 0, 0, 0, 0, 0, 0, 0,\n",
              "        0, 0, 0, 0, 0, 0, 0, 0, 0, 0, 0, 0, 0, 0, 0, 0, 0, 0]],\n",
              "      dtype=int32)>"
            ]
          },
          "metadata": {},
          "execution_count": 7
        }
      ]
    },
    {
      "cell_type": "markdown",
      "metadata": {
        "id": "Hb7yT1oTaUlg"
      },
      "source": [
        "### Input Type Ids\n",
        "- Give id's to multiple sentences in one statement\n",
        "- Usefull for same secnario\n",
        "- Not usefull in our case\n",
        "- Help in contextiualizing the sentence\n",
        "- Usefull for a object like pandas data frame"
      ]
    },
    {
      "cell_type": "code",
      "metadata": {
        "colab": {
          "base_uri": "https://localhost:8080/"
        },
        "id": "AMWW6aNqZHT6",
        "outputId": "099fb643-f118-4548-f5b4-48c44beec979"
      },
      "source": [
        "# input_type_ids\n",
        "text_preprocessed['input_type_ids']"
      ],
      "execution_count": null,
      "outputs": [
        {
          "output_type": "execute_result",
          "data": {
            "text/plain": [
              "<tf.Tensor: shape=(3, 128), dtype=int32, numpy=\n",
              "array([[0, 0, 0, 0, 0, 0, 0, 0, 0, 0, 0, 0, 0, 0, 0, 0, 0, 0, 0, 0, 0, 0,\n",
              "        0, 0, 0, 0, 0, 0, 0, 0, 0, 0, 0, 0, 0, 0, 0, 0, 0, 0, 0, 0, 0, 0,\n",
              "        0, 0, 0, 0, 0, 0, 0, 0, 0, 0, 0, 0, 0, 0, 0, 0, 0, 0, 0, 0, 0, 0,\n",
              "        0, 0, 0, 0, 0, 0, 0, 0, 0, 0, 0, 0, 0, 0, 0, 0, 0, 0, 0, 0, 0, 0,\n",
              "        0, 0, 0, 0, 0, 0, 0, 0, 0, 0, 0, 0, 0, 0, 0, 0, 0, 0, 0, 0, 0, 0,\n",
              "        0, 0, 0, 0, 0, 0, 0, 0, 0, 0, 0, 0, 0, 0, 0, 0, 0, 0],\n",
              "       [0, 0, 0, 0, 0, 0, 0, 0, 0, 0, 0, 0, 0, 0, 0, 0, 0, 0, 0, 0, 0, 0,\n",
              "        0, 0, 0, 0, 0, 0, 0, 0, 0, 0, 0, 0, 0, 0, 0, 0, 0, 0, 0, 0, 0, 0,\n",
              "        0, 0, 0, 0, 0, 0, 0, 0, 0, 0, 0, 0, 0, 0, 0, 0, 0, 0, 0, 0, 0, 0,\n",
              "        0, 0, 0, 0, 0, 0, 0, 0, 0, 0, 0, 0, 0, 0, 0, 0, 0, 0, 0, 0, 0, 0,\n",
              "        0, 0, 0, 0, 0, 0, 0, 0, 0, 0, 0, 0, 0, 0, 0, 0, 0, 0, 0, 0, 0, 0,\n",
              "        0, 0, 0, 0, 0, 0, 0, 0, 0, 0, 0, 0, 0, 0, 0, 0, 0, 0],\n",
              "       [0, 0, 0, 0, 0, 0, 0, 0, 0, 0, 0, 0, 0, 0, 0, 0, 0, 0, 0, 0, 0, 0,\n",
              "        0, 0, 0, 0, 0, 0, 0, 0, 0, 0, 0, 0, 0, 0, 0, 0, 0, 0, 0, 0, 0, 0,\n",
              "        0, 0, 0, 0, 0, 0, 0, 0, 0, 0, 0, 0, 0, 0, 0, 0, 0, 0, 0, 0, 0, 0,\n",
              "        0, 0, 0, 0, 0, 0, 0, 0, 0, 0, 0, 0, 0, 0, 0, 0, 0, 0, 0, 0, 0, 0,\n",
              "        0, 0, 0, 0, 0, 0, 0, 0, 0, 0, 0, 0, 0, 0, 0, 0, 0, 0, 0, 0, 0, 0,\n",
              "        0, 0, 0, 0, 0, 0, 0, 0, 0, 0, 0, 0, 0, 0, 0, 0, 0, 0]],\n",
              "      dtype=int32)>"
            ]
          },
          "metadata": {},
          "execution_count": 8
        }
      ]
    },
    {
      "cell_type": "markdown",
      "metadata": {
        "id": "Wb01Ok7vcOEx"
      },
      "source": [
        "### Input Word Id's\n",
        "\n",
        "- has the token ids of the input sequences.\n",
        "- Give unique id's for indivisual words\n",
        "- Each word in encoded(ids can be from a vocabulary) , padded and seperated\n",
        "- Length : (no of sentence , 128-max length of each sentence)"
      ]
    },
    {
      "cell_type": "code",
      "metadata": {
        "colab": {
          "base_uri": "https://localhost:8080/"
        },
        "id": "RoYSoM78bACr",
        "outputId": "3d3f3cbe-1bbb-4574-ff3d-f845f2e4e7b4"
      },
      "source": [
        "# input_word_ids\n",
        "text_preprocessed['input_word_ids']"
      ],
      "execution_count": null,
      "outputs": [
        {
          "output_type": "execute_result",
          "data": {
            "text/plain": [
              "<tf.Tensor: shape=(3, 128), dtype=int32, numpy=\n",
              "array([[  101,  1045,  2293, 10733,   102,     0,     0,     0,     0,\n",
              "            0,     0,     0,     0,     0,     0,     0,     0,     0,\n",
              "            0,     0,     0,     0,     0,     0,     0,     0,     0,\n",
              "            0,     0,     0,     0,     0,     0,     0,     0,     0,\n",
              "            0,     0,     0,     0,     0,     0,     0,     0,     0,\n",
              "            0,     0,     0,     0,     0,     0,     0,     0,     0,\n",
              "            0,     0,     0,     0,     0,     0,     0,     0,     0,\n",
              "            0,     0,     0,     0,     0,     0,     0,     0,     0,\n",
              "            0,     0,     0,     0,     0,     0,     0,     0,     0,\n",
              "            0,     0,     0,     0,     0,     0,     0,     0,     0,\n",
              "            0,     0,     0,     0,     0,     0,     0,     0,     0,\n",
              "            0,     0,     0,     0,     0,     0,     0,     0,     0,\n",
              "            0,     0,     0,     0,     0,     0,     0,     0,     0,\n",
              "            0,     0,     0,     0,     0,     0,     0,     0,     0,\n",
              "            0,     0],\n",
              "       [  101,  2634,  2003,  2026,  2406,   102,     0,     0,     0,\n",
              "            0,     0,     0,     0,     0,     0,     0,     0,     0,\n",
              "            0,     0,     0,     0,     0,     0,     0,     0,     0,\n",
              "            0,     0,     0,     0,     0,     0,     0,     0,     0,\n",
              "            0,     0,     0,     0,     0,     0,     0,     0,     0,\n",
              "            0,     0,     0,     0,     0,     0,     0,     0,     0,\n",
              "            0,     0,     0,     0,     0,     0,     0,     0,     0,\n",
              "            0,     0,     0,     0,     0,     0,     0,     0,     0,\n",
              "            0,     0,     0,     0,     0,     0,     0,     0,     0,\n",
              "            0,     0,     0,     0,     0,     0,     0,     0,     0,\n",
              "            0,     0,     0,     0,     0,     0,     0,     0,     0,\n",
              "            0,     0,     0,     0,     0,     0,     0,     0,     0,\n",
              "            0,     0,     0,     0,     0,     0,     0,     0,     0,\n",
              "            0,     0,     0,     0,     0,     0,     0,     0,     0,\n",
              "            0,     0],\n",
              "       [  101,  3304,  2003,  4569,  2173,  2000,  3942,   102,     0,\n",
              "            0,     0,     0,     0,     0,     0,     0,     0,     0,\n",
              "            0,     0,     0,     0,     0,     0,     0,     0,     0,\n",
              "            0,     0,     0,     0,     0,     0,     0,     0,     0,\n",
              "            0,     0,     0,     0,     0,     0,     0,     0,     0,\n",
              "            0,     0,     0,     0,     0,     0,     0,     0,     0,\n",
              "            0,     0,     0,     0,     0,     0,     0,     0,     0,\n",
              "            0,     0,     0,     0,     0,     0,     0,     0,     0,\n",
              "            0,     0,     0,     0,     0,     0,     0,     0,     0,\n",
              "            0,     0,     0,     0,     0,     0,     0,     0,     0,\n",
              "            0,     0,     0,     0,     0,     0,     0,     0,     0,\n",
              "            0,     0,     0,     0,     0,     0,     0,     0,     0,\n",
              "            0,     0,     0,     0,     0,     0,     0,     0,     0,\n",
              "            0,     0,     0,     0,     0,     0,     0,     0,     0,\n",
              "            0,     0]], dtype=int32)>"
            ]
          },
          "metadata": {},
          "execution_count": 15
        }
      ]
    },
    {
      "cell_type": "markdown",
      "metadata": {
        "id": "QgsLELgKdhA7"
      },
      "source": [
        "## Creating Embeddings\n",
        "\n",
        "- Embeddings are unique repersentation of wordsin from of numbers\n",
        "\n",
        "- In word 2 vec , similar words are given same embedding id's , i.e even for a diffferent secnario it will predict the same words if it had to do so.\n",
        "\n",
        "- BERT - `Bidirectional Encoder Repersentation From Transformer` solves this issue by creating a contextulized embedding.\n",
        "\n",
        "\n",
        "USAGE: \n",
        "- WORD EMBEDDINGS GENERATION : for each time stamp of a given words , it also carry some attention or semantics of previous words(inf forms of feature vectors )/ look into other parts of sentence, allow us to predict words unbiasedly and create goood embedding vectors.\n",
        "\n",
        "- CLASSIFICATION:  It allows us to do parallel computation which speeds up the calculations and thus capturing the meaning of a word in a right way as it can now see the whole sentence in one go and predict out words with high probability values. \n",
        "\n",
        "- WORDS/ SENTENCES PREDICTIONS: Since the previous predection is feed into it and due to above feature , it can also genrate new word suggestion or even sentences - similar to auto complete.\n",
        "\n",
        "\n",
        "STEPS INVOLVED\n",
        "- Create a encoder/ model object using hub API - to act as a function pointer\n",
        "- Pass `prerpocessed_text` into model - important\n",
        "- Check the keys.\n",
        "- Reuturns a dictonary"
      ]
    },
    {
      "cell_type": "code",
      "metadata": {
        "id": "qI62wvKcdSxT"
      },
      "source": [
        "# create our model- encoder which encodes to create word embeddings\n",
        "bert_encoder_model = hub.KerasLayer(encoder_url)"
      ],
      "execution_count": null,
      "outputs": []
    },
    {
      "cell_type": "code",
      "metadata": {
        "id": "9r2xjHczhjI0"
      },
      "source": [
        "# encoding - creating embeddings\n",
        "bert_results = bert_encoder_model(text_preprocessed)"
      ],
      "execution_count": null,
      "outputs": []
    },
    {
      "cell_type": "code",
      "metadata": {
        "colab": {
          "base_uri": "https://localhost:8080/"
        },
        "id": "oOVKlX5KhzT1",
        "outputId": "51ec3d72-e87d-422d-c3d1-53a4010bc905"
      },
      "source": [
        "# check the keys\n",
        "bert_results.keys()"
      ],
      "execution_count": null,
      "outputs": [
        {
          "output_type": "execute_result",
          "data": {
            "text/plain": [
              "dict_keys(['default', 'sequence_output', 'pooled_output', 'encoder_outputs'])"
            ]
          },
          "metadata": {},
          "execution_count": 13
        }
      ]
    },
    {
      "cell_type": "markdown",
      "metadata": {
        "id": "J-GLsTYfijvl"
      },
      "source": [
        "## Understanding Embedding Dictonary\n",
        "\n",
        "- pooled_output\n",
        "- sequence_output\n",
        "- encoder_outputs"
      ]
    },
    {
      "cell_type": "markdown",
      "metadata": {
        "id": "aKxPSIW4jhvQ"
      },
      "source": [
        "### Pooled Output\n",
        "- Embedding for the entire sentence\n",
        "- Length : `(no of sentence, no of hidden units - 768[this case])` \n",
        "- Also these 768 will not be 0 as bert carries some of the contextual meaning for each meaning i.e relates how much one feature differ from each other [-ve less relatable , +ve - very relatable], this is the feature why bert is so popular and powerful in NLP task"
      ]
    },
    {
      "cell_type": "code",
      "metadata": {
        "colab": {
          "base_uri": "https://localhost:8080/"
        },
        "id": "qE1BwHXGib_g",
        "outputId": "580711ad-519c-4b19-bbeb-a05588499671"
      },
      "source": [
        "# pooled_output\n",
        "bert_results['pooled_output']"
      ],
      "execution_count": null,
      "outputs": [
        {
          "output_type": "execute_result",
          "data": {
            "text/plain": [
              "<tf.Tensor: shape=(3, 768), dtype=float32, numpy=\n",
              "array([[-0.82588106, -0.23015173,  0.44445992, ...,  0.36432374,\n",
              "        -0.6134956 ,  0.88324934],\n",
              "       [-0.86772424, -0.39655608, -0.37747943, ..., -0.11730396,\n",
              "        -0.647971  ,  0.8981817 ],\n",
              "       [-0.73642266, -0.19927372,  0.39546803, ...,  0.17739156,\n",
              "        -0.57022023,  0.7637291 ]], dtype=float32)>"
            ]
          },
          "metadata": {
            "tags": []
          },
          "execution_count": 27
        }
      ]
    },
    {
      "cell_type": "markdown",
      "metadata": {
        "id": "e_ta_EIklB2P"
      },
      "source": [
        "### Sequence output\n",
        "\n",
        "- This is the repersentation/ embedding  of indivisual word of a sentence\n",
        "- Due to processing sentence become a length of 128\n",
        "- Hidden state is 768\n",
        "- No of sentence \n",
        "\n",
        "So length of the sequnence out put array/ tensor is `(no of sentences, length of sentence-128, no of hidden units -768 )`\n"
      ]
    },
    {
      "cell_type": "code",
      "metadata": {
        "colab": {
          "base_uri": "https://localhost:8080/"
        },
        "id": "v__WrlxzkcDV",
        "outputId": "8dfa6680-94b2-4c8a-96b3-c5d20778c273"
      },
      "source": [
        "# sequence_output\n",
        "bert_results['sequence_output']"
      ],
      "execution_count": null,
      "outputs": [
        {
          "output_type": "execute_result",
          "data": {
            "text/plain": [
              "<tf.Tensor: shape=(3, 128, 768), dtype=float32, numpy=\n",
              "array([[[ 0.13989714,  0.30410826,  0.06352297, ..., -0.10268718,\n",
              "          0.22148415,  0.149779  ],\n",
              "        [ 0.3213734 ,  0.29354593, -0.1408113 , ..., -0.20841485,\n",
              "          0.8356771 ,  0.20442364],\n",
              "        [ 1.1886758 ,  0.64992356,  0.67424935, ...,  0.10617817,\n",
              "          0.41522315, -0.23921788],\n",
              "        ...,\n",
              "        [ 0.20025288,  0.2712966 ,  0.4500041 , ...,  0.22973931,\n",
              "          0.02177422,  0.11564764],\n",
              "        [ 0.12034723,  0.1726704 ,  0.36960527, ...,  0.277618  ,\n",
              "          0.02981649,  0.06090213],\n",
              "        [-0.23403431, -0.10138147,  0.34712183, ...,  0.44735387,\n",
              "          0.04013278, -0.04988691]],\n",
              "\n",
              "       [[-0.02354234,  0.37282184, -0.09210153, ..., -0.44056383,\n",
              "          0.01131824,  0.33282456],\n",
              "        [-0.61942905, -0.2867513 , -0.7241891 , ..., -0.3831982 ,\n",
              "          0.31782785, -0.2673176 ],\n",
              "        [ 0.22915015, -0.2607807 , -0.25905165, ..., -0.3867034 ,\n",
              "          0.5324209 ,  0.7462699 ],\n",
              "        ...,\n",
              "        [ 0.03039799,  0.00430586,  0.36881196, ..., -0.07569645,\n",
              "         -0.14002267, -0.04536352],\n",
              "        [-0.04000743, -0.01646761,  0.41010907, ..., -0.04975202,\n",
              "         -0.14448294, -0.0768888 ],\n",
              "        [ 0.02779415, -0.08786305,  0.40672058, ..., -0.01367268,\n",
              "         -0.15657687, -0.11102623]],\n",
              "\n",
              "       [[ 0.2207399 ,  0.01413433,  0.0644369 , ..., -0.17645858,\n",
              "          0.19920689,  0.19690737],\n",
              "        [-0.1470479 , -0.54524785, -0.10819128, ..., -0.8173358 ,\n",
              "          0.23186433,  0.19307567],\n",
              "        [-0.05048917, -0.7160363 , -0.00176229, ..., -0.46848074,\n",
              "          0.0476124 , -0.22504447],\n",
              "        ...,\n",
              "        [ 0.01195145, -0.22026901,  0.3875023 , ..., -0.32334274,\n",
              "          0.13460842,  0.17516048],\n",
              "        [-0.14100355, -0.20604494,  0.2578197 , ..., -0.16094592,\n",
              "          0.04925302,  0.2430501 ],\n",
              "        [-0.06052955, -0.22084375,  0.32424736, ..., -0.06742828,\n",
              "          0.09591131,  0.17549211]]], dtype=float32)>"
            ]
          },
          "metadata": {
            "tags": []
          },
          "execution_count": 28
        }
      ]
    },
    {
      "cell_type": "markdown",
      "metadata": {
        "id": "VLxDz39kmDvO"
      },
      "source": [
        "### Encoder Output\n",
        "\n",
        "- It is the intermediate activations of transformer block and its last encoding is similar to sequence outputs.\n",
        "\n",
        "- Length same as sequence output - `(no of sentences, length of each sentence- 128, no of hidden units-768)`"
      ]
    },
    {
      "cell_type": "code",
      "metadata": {
        "colab": {
          "base_uri": "https://localhost:8080/"
        },
        "id": "_ApkMytSmAbc",
        "outputId": "93da3356-d36d-4280-c7ee-dbce293459cc"
      },
      "source": [
        "# encoder_output\n",
        "bert_results['encoder_outputs']"
      ],
      "execution_count": null,
      "outputs": [
        {
          "output_type": "execute_result",
          "data": {
            "text/plain": [
              "[<tf.Tensor: shape=(3, 128, 768), dtype=float32, numpy=\n",
              " array([[[ 0.17126319,  0.05714687, -0.06743662, ...,  0.01732922,\n",
              "           0.1435501 ,  0.04887234],\n",
              "         [ 0.63244945,  1.2133181 , -0.05207326, ...,  0.5324669 ,\n",
              "           0.8438145 ,  0.26414838],\n",
              "         [ 1.3925556 ,  0.6356846 ,  0.74228704, ...,  0.43790025,\n",
              "           0.9343474 ,  0.07733156],\n",
              "         ...,\n",
              "         [-0.05122618, -0.17709933,  0.7356079 , ...,  0.4184736 ,\n",
              "          -0.19071539,  0.02412983],\n",
              "         [-0.15421629, -0.2190762 ,  0.59030294, ...,  0.48437572,\n",
              "          -0.10654706, -0.06792145],\n",
              "         [-0.02584009, -0.1486233 ,  0.59410834, ...,  0.7565186 ,\n",
              "          -0.38720998, -0.13480783]],\n",
              " \n",
              "        [[ 0.15777126,  0.04426724, -0.13644364, ..., -0.00874417,\n",
              "           0.12490405,  0.09001195],\n",
              "         [-0.18299708,  0.27142665, -0.63025725, ..., -0.63325214,\n",
              "           0.11569588,  0.18398012],\n",
              "         [-0.7387832 , -0.22359392, -0.29233348, ...,  0.04634893,\n",
              "           0.6207117 ,  0.38389266],\n",
              "         ...,\n",
              "         [ 0.13647632, -0.26270038,  0.72066617, ...,  0.17608884,\n",
              "          -0.09332649,  0.20028064],\n",
              "         [ 0.05219527, -0.27009127,  0.5672355 , ...,  0.19186029,\n",
              "           0.01984035,  0.09943368],\n",
              "         [ 0.25458902, -0.182467  ,  0.60727215, ...,  0.5618764 ,\n",
              "          -0.347966  ,  0.01064503]],\n",
              " \n",
              "        [[ 0.12843454,  0.06256273, -0.02398982, ...,  0.02614061,\n",
              "           0.10695018,  0.0676709 ],\n",
              "         [-0.53056115,  0.7519104 ,  0.1698904 , ...,  0.01566394,\n",
              "          -0.69794863,  0.30962378],\n",
              "         [-1.0056283 , -0.1719225 ,  0.01070076, ...,  0.2871667 ,\n",
              "           0.3490474 ,  0.4487633 ],\n",
              "         ...,\n",
              "         [-0.01171614, -0.18401983,  0.7630216 , ...,  0.5255787 ,\n",
              "          -0.26923916,  0.10974011],\n",
              "         [-0.12069693, -0.20226283,  0.63111806, ...,  0.5495739 ,\n",
              "          -0.18612063,  0.019642  ],\n",
              "         [ 0.03589938, -0.139568  ,  0.6733142 , ...,  0.87333417,\n",
              "          -0.5026302 , -0.04787359]]], dtype=float32)>,\n",
              " <tf.Tensor: shape=(3, 128, 768), dtype=float32, numpy=\n",
              " array([[[ 2.51199529e-02, -1.75340042e-01, -1.46998763e-01, ...,\n",
              "           8.96848142e-02,  1.14559010e-01,  1.07718632e-01],\n",
              "         [ 4.70781386e-01,  1.09189272e+00,  4.00564849e-01, ...,\n",
              "           5.45752764e-01,  2.49515608e-01,  4.72856499e-02],\n",
              "         [ 2.09972119e+00,  9.78227973e-01,  1.24919701e+00, ...,\n",
              "           7.88870037e-01,  4.57187921e-01, -5.72726279e-02],\n",
              "         ...,\n",
              "         [-2.82447875e-01, -1.19807065e-01,  7.95022249e-01, ...,\n",
              "           8.60488832e-01, -4.99546438e-01, -1.99169263e-01],\n",
              "         [-3.31744552e-01, -5.51770255e-02,  6.78519547e-01, ...,\n",
              "           9.27768588e-01, -4.23308223e-01, -2.45877296e-01],\n",
              "         [-3.31965268e-01, -4.30774987e-02,  5.47684133e-01, ...,\n",
              "           1.09798133e+00, -5.43233752e-01, -2.41933480e-01]],\n",
              " \n",
              "        [[ 8.14857334e-02, -1.90999240e-01, -1.73533827e-01, ...,\n",
              "           8.14729929e-02,  1.91468343e-01,  1.07158832e-01],\n",
              "         [-2.74162173e-01,  7.21745968e-01, -5.79899013e-01, ...,\n",
              "          -4.97957170e-01,  5.28280199e-01, -1.02080002e-01],\n",
              "         [-5.72640240e-01, -1.31221250e-01,  8.50296393e-02, ...,\n",
              "          -1.20297357e-01,  5.87652087e-01,  3.74362826e-01],\n",
              "         ...,\n",
              "         [ 4.85897548e-02, -2.24751562e-01,  6.96387053e-01, ...,\n",
              "           8.50378692e-01, -3.66913617e-01, -5.95671348e-02],\n",
              "         [-1.98298693e-03, -1.30663261e-01,  6.81405067e-01, ...,\n",
              "           8.48278463e-01, -3.09227616e-01, -1.11778349e-01],\n",
              "         [ 1.60181239e-01, -1.56818777e-01,  6.09384298e-01, ...,\n",
              "           1.09201765e+00, -5.41365385e-01, -1.82661533e-01]],\n",
              " \n",
              "        [[ 1.15952976e-02, -1.53578967e-01, -1.98014021e-01, ...,\n",
              "           2.38844961e-01,  1.23389788e-01, -1.92741863e-03],\n",
              "         [-7.18920350e-01,  9.26283896e-01,  1.11204788e-01, ...,\n",
              "           2.31291428e-01, -8.94474506e-01, -7.78766535e-03],\n",
              "         [-7.24434137e-01,  5.60065955e-02,  2.96304345e-01, ...,\n",
              "           1.37798890e-01,  8.58645141e-02,  4.77970123e-01],\n",
              "         ...,\n",
              "         [-7.78997988e-02, -2.46662140e-01,  6.80052042e-01, ...,\n",
              "           1.19239032e+00, -5.18219113e-01, -9.84718055e-02],\n",
              "         [-1.87779620e-01, -9.23410207e-02,  7.21029222e-01, ...,\n",
              "           1.12454224e+00, -5.51012158e-01, -1.14089727e-01],\n",
              "         [-6.89839497e-02, -2.15528548e-01,  6.76283836e-01, ...,\n",
              "           1.33384657e+00, -7.23523378e-01, -2.16207370e-01]]],\n",
              "       dtype=float32)>,\n",
              " <tf.Tensor: shape=(3, 128, 768), dtype=float32, numpy=\n",
              " array([[[ 0.06220819, -0.2946673 , -0.09328581, ...,  0.24601787,\n",
              "           0.03738508,  0.24774656],\n",
              "         [ 0.6763861 ,  0.54692304,  0.70005465, ...,  0.8395178 ,\n",
              "          -0.07490584, -0.08132847],\n",
              "         [ 2.7595828 ,  0.4518537 ,  1.5390267 , ...,  0.36351997,\n",
              "           0.09102283, -0.22479868],\n",
              "         ...,\n",
              "         [-0.16043563, -0.07183862,  0.97268254, ...,  0.98184806,\n",
              "          -0.16955952, -0.3326098 ],\n",
              "         [-0.21813744, -0.02801865,  0.859816  , ...,  0.9787587 ,\n",
              "          -0.21061318, -0.45523217],\n",
              "         [-0.33492988, -0.08441041,  0.84981084, ...,  1.1925216 ,\n",
              "          -0.39522436, -0.4586376 ]],\n",
              " \n",
              "        [[ 0.04409543, -0.2882764 ,  0.02449054, ...,  0.22303386,\n",
              "           0.12324248,  0.24995057],\n",
              "         [-0.544286  ,  0.39563358, -0.10584637, ..., -0.6607842 ,\n",
              "          -0.01645348, -0.22000533],\n",
              "         [-0.5722245 , -0.2802453 ,  0.28779858, ..., -0.16239472,\n",
              "           0.59959614,  0.5867828 ],\n",
              "         ...,\n",
              "         [ 0.01214244, -0.18502167,  0.898468  , ...,  0.90672284,\n",
              "           0.02870383, -0.20929696],\n",
              "         [-0.08263553, -0.08786309,  0.8263701 , ...,  0.96379155,\n",
              "           0.08240984, -0.26967624],\n",
              "         [ 0.05174021, -0.17136276,  0.86307734, ...,  1.1129819 ,\n",
              "          -0.16598596, -0.31493133]],\n",
              " \n",
              "        [[ 0.0557536 , -0.23234388, -0.07091787, ...,  0.25406083,\n",
              "           0.12729608,  0.12351857],\n",
              "         [-0.46576035,  0.44403845,  0.3932043 , ..., -0.12229835,\n",
              "          -1.1773462 , -0.10173337],\n",
              "         [-0.5461946 , -0.11684433,  0.2207054 , ..., -0.10514612,\n",
              "          -0.12342918,  0.67906636],\n",
              "         ...,\n",
              "         [ 0.0208043 , -0.13747163,  0.86294675, ...,  1.1147883 ,\n",
              "          -0.02936795, -0.13429153],\n",
              "         [-0.14127149,  0.03162636,  0.79942393, ...,  1.1062059 ,\n",
              "          -0.0857603 , -0.11942316],\n",
              "         [-0.05224106, -0.13346602,  0.83333206, ...,  1.219902  ,\n",
              "          -0.28857732, -0.20132121]]], dtype=float32)>,\n",
              " <tf.Tensor: shape=(3, 128, 768), dtype=float32, numpy=\n",
              " array([[[ 0.2734789 , -0.40583846, -0.568017  , ...,  0.40333802,\n",
              "          -0.08019739,  0.53806186],\n",
              "         [ 0.87536603,  0.27705237,  0.7675436 , ...,  0.8390444 ,\n",
              "          -0.18542519, -0.48419818],\n",
              "         [ 2.900644  ,  0.2809403 ,  0.90566784, ...,  0.4574947 ,\n",
              "          -0.39283583,  0.12870649],\n",
              "         ...,\n",
              "         [-0.31274348, -0.4101462 ,  1.1505426 , ...,  0.8895107 ,\n",
              "          -0.5603501 , -0.29110968],\n",
              "         [-0.33591765, -0.34854013,  0.97894347, ...,  0.9088249 ,\n",
              "          -0.57247865, -0.42642465],\n",
              "         [-0.6264852 , -0.51820225,  1.0323362 , ...,  1.1956366 ,\n",
              "          -0.71106833, -0.33370206]],\n",
              " \n",
              "        [[ 0.23616445, -0.6414903 , -0.5649288 , ...,  0.5676664 ,\n",
              "           0.21910396,  0.76801825],\n",
              "         [-0.6497688 ,  0.6527506 , -0.00804577, ..., -0.22275192,\n",
              "          -0.20766506, -0.37997788],\n",
              "         [-0.3645478 , -0.34749335, -0.22844493, ..., -0.09971012,\n",
              "           0.00960242,  1.2130197 ],\n",
              "         ...,\n",
              "         [-0.12376517, -0.583681  ,  1.1298368 , ...,  0.84808344,\n",
              "          -0.74044555, -0.11600237],\n",
              "         [-0.30060458, -0.43751132,  0.9924211 , ...,  0.8457277 ,\n",
              "          -0.6586393 , -0.23853533],\n",
              "         [-0.08559979, -0.602142  ,  1.1593922 , ...,  1.0941262 ,\n",
              "          -0.81950825, -0.29610026]],\n",
              " \n",
              "        [[ 0.41396797, -0.5264952 , -0.64542437, ...,  0.34373358,\n",
              "           0.34656852,  0.6107599 ],\n",
              "         [-0.6530606 ,  0.3923971 , -0.19227973, ...,  0.24724136,\n",
              "          -1.3544031 , -0.07753205],\n",
              "         [-0.56443983, -0.53905034, -0.2895045 , ...,  0.06996942,\n",
              "          -0.26980796,  0.7950714 ],\n",
              "         ...,\n",
              "         [-0.13584721, -0.69748604,  1.0263743 , ...,  0.83859754,\n",
              "          -0.63634413,  0.0774655 ],\n",
              "         [-0.31036586, -0.5149342 ,  0.9737165 , ...,  0.88151264,\n",
              "          -0.6572398 ,  0.11982046],\n",
              "         [-0.22307812, -0.76088715,  1.1309569 , ...,  1.1043828 ,\n",
              "          -0.7360752 , -0.06708725]]], dtype=float32)>,\n",
              " <tf.Tensor: shape=(3, 128, 768), dtype=float32, numpy=\n",
              " array([[[ 0.21773788, -0.40510178, -0.59135073, ...,  0.00728322,\n",
              "          -0.01593096,  0.5643023 ],\n",
              "         [ 1.0737696 , -0.28953037,  0.350679  , ...,  0.5364614 ,\n",
              "           0.20441726, -0.32812208],\n",
              "         [ 2.7639163 ,  0.50267005,  0.40223607, ...,  0.50925976,\n",
              "          -0.76745   ,  0.20982988],\n",
              "         ...,\n",
              "         [ 0.06750834, -0.15271619,  1.1481062 , ...,  0.66708004,\n",
              "          -0.19044967, -0.4376571 ],\n",
              "         [ 0.05717985, -0.09279577,  1.0511283 , ...,  0.8278279 ,\n",
              "          -0.27492473, -0.5290305 ],\n",
              "         [-0.46349856, -0.19102344,  1.248864  , ...,  1.0400404 ,\n",
              "          -0.42907026, -0.52770174]],\n",
              " \n",
              "        [[-0.04649717, -0.3885411 , -0.48315936, ..., -0.02995387,\n",
              "           0.40223345,  0.76219964],\n",
              "         [-0.6194437 ,  0.39600477,  0.19116534, ..., -0.40710053,\n",
              "          -0.23525149, -0.2866846 ],\n",
              "         [-0.13149352, -0.54440826, -0.04963315, ..., -0.24615076,\n",
              "           0.31289914,  0.7174965 ],\n",
              "         ...,\n",
              "         [-0.01946467, -0.41385743,  0.9164313 , ..., -0.0077007 ,\n",
              "          -0.4079742 , -0.35677284],\n",
              "         [-0.16465855, -0.24460697,  0.8954271 , ...,  0.05075365,\n",
              "          -0.44833538, -0.50215054],\n",
              "         [ 0.01934176, -0.5168715 ,  1.008453  , ...,  0.44982404,\n",
              "          -0.53928304, -0.5899757 ]],\n",
              " \n",
              "        [[ 0.18245505, -0.47981432, -0.5596689 , ..., -0.03005566,\n",
              "           0.31305552,  0.61831313],\n",
              "         [-0.5590631 ,  0.09195524, -0.24609268, ..., -0.13180071,\n",
              "          -1.4601305 , -0.02463891],\n",
              "         [-0.19234239, -0.69321245, -0.16398452, ..., -0.0699545 ,\n",
              "          -0.16767174,  0.5057808 ],\n",
              "         ...,\n",
              "         [-0.09670632, -0.48882627,  0.83838457, ...,  0.21314374,\n",
              "          -0.6323196 , -0.38771752],\n",
              "         [-0.259941  , -0.2658499 ,  0.63453394, ...,  0.43149114,\n",
              "          -0.8482871 , -0.29509157],\n",
              "         [-0.1867907 , -0.52312946,  0.8774481 , ...,  0.6279452 ,\n",
              "          -0.8721335 , -0.50557125]]], dtype=float32)>,\n",
              " <tf.Tensor: shape=(3, 128, 768), dtype=float32, numpy=\n",
              " array([[[ 0.11750706, -0.43039805, -0.57949626, ...,  0.07346959,\n",
              "           0.18857802,  0.5539588 ],\n",
              "         [ 0.84017414,  0.47342026, -0.0990768 , ...,  0.1037425 ,\n",
              "           0.57576245, -0.6415239 ],\n",
              "         [ 2.4546776 ,  0.41288468,  0.59377545, ...,  0.5097955 ,\n",
              "          -0.65583366, -0.0860805 ],\n",
              "         ...,\n",
              "         [ 0.05165038,  0.05327843,  1.436733  , ...,  0.85792047,\n",
              "          -0.32088235, -0.4826309 ],\n",
              "         [ 0.04616069,  0.11812421,  1.2336875 , ...,  0.9401984 ,\n",
              "          -0.36009714, -0.5896817 ],\n",
              "         [-0.627604  , -0.01092806,  1.3298316 , ...,  0.9363195 ,\n",
              "          -0.5760918 , -0.5690379 ]],\n",
              " \n",
              "        [[-0.10351557, -0.622521  , -0.656062  , ..., -0.5605771 ,\n",
              "           0.5546021 ,  0.93999594],\n",
              "         [-0.45538095,  0.35789257,  0.30343992, ..., -0.21253511,\n",
              "          -0.17191225, -0.43109748],\n",
              "         [ 0.08007054, -1.1451434 ,  0.20265129, ...,  0.12236097,\n",
              "           0.43155164,  0.9192595 ],\n",
              "         ...,\n",
              "         [-0.0449166 , -0.3423359 ,  1.1671847 , ...,  0.09213965,\n",
              "          -0.5509269 , -0.3617605 ],\n",
              "         [-0.25902283, -0.21327953,  1.132933  , ...,  0.17672509,\n",
              "          -0.590052  , -0.43005764],\n",
              "         [-0.03589999, -0.5476501 ,  1.1847668 , ...,  0.4690164 ,\n",
              "          -0.6607139 , -0.54085577]],\n",
              " \n",
              "        [[ 0.21015339, -0.5332376 , -0.35931826, ..., -0.4424787 ,\n",
              "           0.55539864,  0.545535  ],\n",
              "         [-0.22448364, -0.04371445,  0.05247997, ..., -0.07033527,\n",
              "          -1.1390059 , -0.316988  ],\n",
              "         [-0.46364945, -0.9376134 , -0.30972335, ..., -0.66716397,\n",
              "          -0.6848487 ,  0.741045  ],\n",
              "         ...,\n",
              "         [-0.04520475, -0.1620187 ,  1.0897005 , ...,  0.28417888,\n",
              "          -0.6257058 , -0.357041  ],\n",
              "         [-0.29586202,  0.01147798,  0.9975646 , ...,  0.6197914 ,\n",
              "          -0.87681025, -0.21027476],\n",
              "         [-0.1796702 , -0.28215444,  1.1695715 , ...,  0.7577494 ,\n",
              "          -0.8399891 , -0.4358996 ]]], dtype=float32)>,\n",
              " <tf.Tensor: shape=(3, 128, 768), dtype=float32, numpy=\n",
              " array([[[ 0.2568817 , -0.2962348 , -0.33276075, ...,  0.4078802 ,\n",
              "           0.62229306,  0.41586733],\n",
              "         [ 0.7373677 ,  0.32434347, -0.30461192, ...,  0.34615266,\n",
              "           0.84747255, -0.5453537 ],\n",
              "         [ 1.9894185 ,  0.8447145 ,  0.37647864, ...,  0.8469243 ,\n",
              "          -0.2403218 , -0.1167822 ],\n",
              "         ...,\n",
              "         [ 0.2692535 ,  0.0422879 ,  1.523375  , ...,  0.94521725,\n",
              "          -0.04222444, -0.40672675],\n",
              "         [ 0.2537712 ,  0.10208164,  1.3641796 , ...,  0.92601913,\n",
              "           0.00289938, -0.6996224 ],\n",
              "         [-0.68620974, -0.2680161 ,  1.2181842 , ...,  0.831772  ,\n",
              "          -0.16886504, -0.60233855]],\n",
              " \n",
              "        [[ 0.11075368, -0.24788666, -0.5061536 , ..., -0.72807086,\n",
              "           0.99042386,  1.0843999 ],\n",
              "         [-0.48110253,  0.06978978,  0.26367605, ..., -0.15449886,\n",
              "          -0.11487393, -0.44447798],\n",
              "         [ 0.44980884, -0.8439504 , -0.08609775, ..., -0.04559748,\n",
              "           0.8897608 ,  0.9924021 ],\n",
              "         ...,\n",
              "         [ 0.19304839, -0.33574313,  1.4588798 , ...,  0.41265112,\n",
              "          -0.38216537, -0.4123534 ],\n",
              "         [-0.00731714, -0.2301374 ,  1.4311215 , ...,  0.3489886 ,\n",
              "          -0.3766412 , -0.4708196 ],\n",
              "         [ 0.12155209, -0.59713477,  1.452516  , ...,  0.58147496,\n",
              "          -0.41423988, -0.6260431 ]],\n",
              " \n",
              "        [[ 0.24808294, -0.7642681 , -0.1624276 , ..., -0.5805175 ,\n",
              "           0.8549878 ,  0.5434811 ],\n",
              "         [-0.06841148, -0.25334734,  0.21266767, ..., -0.04598515,\n",
              "          -0.797014  , -0.24296364],\n",
              "         [-0.09896079, -0.89587843, -0.35401088, ..., -0.48450068,\n",
              "          -0.12560113,  1.1098715 ],\n",
              "         ...,\n",
              "         [ 0.26114196,  0.06931077,  1.1147995 , ...,  0.5280922 ,\n",
              "          -0.3715034 , -0.300225  ],\n",
              "         [ 0.03128681,  0.22589102,  1.0111792 , ...,  0.71106493,\n",
              "          -0.6070522 , -0.02722131],\n",
              "         [ 0.08842242, -0.08853693,  1.2332045 , ...,  0.850468  ,\n",
              "          -0.5735101 , -0.29583365]]], dtype=float32)>,\n",
              " <tf.Tensor: shape=(3, 128, 768), dtype=float32, numpy=\n",
              " array([[[ 0.37115744, -0.06972227, -0.5422699 , ..., -0.3064434 ,\n",
              "           0.55627656,  0.5310388 ],\n",
              "         [ 0.66159296,  0.32918823, -0.8239468 , ...,  0.10658023,\n",
              "           0.78001755,  0.0081546 ],\n",
              "         [ 1.8165277 ,  0.82403684,  0.42927578, ..., -0.06284913,\n",
              "           0.02822986,  0.10540004],\n",
              "         ...,\n",
              "         [ 0.32875857,  0.28949377,  1.5680214 , ...,  0.86959726,\n",
              "          -0.18105896, -0.4024394 ],\n",
              "         [ 0.2321662 ,  0.27661657,  1.3453726 , ...,  0.82384515,\n",
              "          -0.06626549, -0.7362343 ],\n",
              "         [-0.7813622 , -0.17410742,  1.063789  , ...,  0.34709737,\n",
              "          -0.4023281 , -0.61240476]],\n",
              " \n",
              "        [[ 0.11041678, -0.16666585, -1.0235683 , ..., -0.9312212 ,\n",
              "           0.77102643,  0.8821173 ],\n",
              "         [-0.2763704 , -0.2296254 , -0.1382765 , ..., -0.42267847,\n",
              "           0.0712999 , -0.4982605 ],\n",
              "         [ 0.5121311 , -0.64538985, -0.08207618, ..., -0.36324862,\n",
              "           0.67943794,  1.1186638 ],\n",
              "         ...,\n",
              "         [ 0.41669238, -0.3747715 ,  1.3102459 , ...,  0.39761245,\n",
              "          -0.54710543, -0.5560828 ],\n",
              "         [ 0.14312577, -0.22383836,  1.268004  , ...,  0.31029147,\n",
              "          -0.565654  , -0.71391344],\n",
              "         [ 0.33570153, -0.64684474,  1.3351071 , ...,  0.58304715,\n",
              "          -0.57417977, -0.88835984]],\n",
              " \n",
              "        [[ 0.45237982, -0.4494927 , -0.4867271 , ..., -0.82056755,\n",
              "           0.7899328 ,  0.8151896 ],\n",
              "         [-0.00636514, -0.10212185, -0.06298225, ..., -0.13884532,\n",
              "          -0.6442581 , -0.30081853],\n",
              "         [ 0.1048551 , -0.46292713, -0.24773882, ..., -0.5601877 ,\n",
              "           0.25398338,  1.0198225 ],\n",
              "         ...,\n",
              "         [ 0.57593215,  0.20366281,  1.1118479 , ...,  0.6711049 ,\n",
              "          -0.44126883, -0.17010722],\n",
              "         [ 0.02602654,  0.3687743 ,  0.940559  , ...,  0.89022756,\n",
              "          -0.6473647 , -0.00548753],\n",
              "         [ 0.17392178,  0.03020622,  1.1854588 , ...,  1.0100064 ,\n",
              "          -0.65498644, -0.3035037 ]]], dtype=float32)>,\n",
              " <tf.Tensor: shape=(3, 128, 768), dtype=float32, numpy=\n",
              " array([[[ 0.36190677,  0.11420099, -0.4424315 , ..., -0.09247393,\n",
              "           0.36932784,  0.34458137],\n",
              "         [ 0.4661114 ,  0.4906233 , -0.40511045, ..., -0.1981018 ,\n",
              "           0.53389704, -0.01608101],\n",
              "         [ 1.2437582 ,  0.75519323,  0.48486352, ...,  0.10265484,\n",
              "           0.19512029, -0.00424331],\n",
              "         ...,\n",
              "         [ 0.461972  ,  0.58577   ,  1.3556621 , ...,  1.0039514 ,\n",
              "          -0.13008186, -0.1236894 ],\n",
              "         [ 0.37178716,  0.40394258,  1.1847723 , ...,  1.0458058 ,\n",
              "          -0.07963929, -0.69795406],\n",
              "         [-0.79566354, -0.29199606,  0.7824747 , ...,  0.59399295,\n",
              "          -0.5184911 , -0.5979348 ]],\n",
              " \n",
              "        [[ 0.13207898,  0.34194127, -0.8142478 , ..., -0.91271585,\n",
              "           0.41032535,  0.74609536],\n",
              "         [-0.41876477, -0.46801913, -0.12544365, ..., -0.8221163 ,\n",
              "          -0.00493515, -0.45361495],\n",
              "         [ 0.4595026 , -0.33902097, -0.0689805 , ..., -0.4956332 ,\n",
              "           0.71447486,  1.1753597 ],\n",
              "         ...,\n",
              "         [ 0.49109685, -0.12698816,  1.1182662 , ...,  0.15081142,\n",
              "          -0.40800148, -0.5285689 ],\n",
              "         [ 0.1999773 , -0.05357089,  1.1576812 , ...,  0.15104537,\n",
              "          -0.4261706 , -0.7305823 ],\n",
              "         [ 0.3708594 , -0.41010177,  1.2167786 , ...,  0.4697818 ,\n",
              "          -0.4091205 , -0.8888296 ]],\n",
              " \n",
              "        [[ 0.56257004, -0.02209181, -0.453719  , ..., -0.6849204 ,\n",
              "           0.5420956 ,  0.60180485],\n",
              "         [ 0.21786311, -0.3282718 , -0.29218283, ..., -0.41277927,\n",
              "          -0.43263996, -0.06633181],\n",
              "         [-0.08892569, -0.38343275,  0.1767717 , ..., -0.4724712 ,\n",
              "           0.49845684,  0.78316295],\n",
              "         ...,\n",
              "         [ 0.69359577,  0.12997115,  0.9650281 , ...,  0.38765618,\n",
              "          -0.24574162,  0.04957387],\n",
              "         [-0.08452068,  0.22367069,  0.64879525, ...,  0.6372189 ,\n",
              "          -0.5858828 ,  0.311991  ],\n",
              "         [ 0.18900645,  0.04716342,  0.8969726 , ...,  0.8573056 ,\n",
              "          -0.5256681 , -0.0260084 ]]], dtype=float32)>,\n",
              " <tf.Tensor: shape=(3, 128, 768), dtype=float32, numpy=\n",
              " array([[[ 0.29073825, -0.07858706, -0.29300895, ..., -0.02634533,\n",
              "          -0.16627352,  0.28002852],\n",
              "         [ 0.31146863,  0.18698747, -0.03118319, ..., -0.10642086,\n",
              "           0.57835823, -0.30223313],\n",
              "         [ 1.2707549 ,  0.61658096,  0.57367694, ...,  0.079338  ,\n",
              "           0.5295034 , -0.14461838],\n",
              "         ...,\n",
              "         [ 0.2833252 ,  0.6842973 ,  1.0203665 , ...,  0.9128943 ,\n",
              "          -0.27283818, -0.13033614],\n",
              "         [ 0.149606  ,  0.4518079 ,  0.82714695, ...,  1.0352306 ,\n",
              "          -0.29402405, -0.5933157 ],\n",
              "         [-0.99514693, -0.4189526 ,  0.59987134, ...,  1.0028337 ,\n",
              "          -0.82784635, -0.55571353]],\n",
              " \n",
              "        [[ 0.05665092,  0.3767874 , -0.54274404, ..., -0.8201638 ,\n",
              "          -0.15513556,  0.46517754],\n",
              "         [-0.29037622, -0.7604975 , -0.40327096, ..., -0.8423736 ,\n",
              "           0.09031807, -1.1882492 ],\n",
              "         [ 0.80129564, -0.6129782 ,  0.15387349, ..., -0.5033145 ,\n",
              "           0.26859564,  0.6847384 ],\n",
              "         ...,\n",
              "         [ 0.14969563, -0.10113901,  0.6833029 , ..., -0.09372026,\n",
              "          -0.30933398, -0.652038  ],\n",
              "         [-0.14634106, -0.05636592,  0.82246023, ..., -0.0133875 ,\n",
              "          -0.36651453, -0.7703432 ],\n",
              "         [ 0.10199875, -0.33326048,  0.87267756, ...,  0.21412499,\n",
              "          -0.44064876, -0.9061378 ]],\n",
              " \n",
              "        [[ 0.51389056, -0.21873419, -0.09274207, ..., -0.53331864,\n",
              "           0.06394883,  0.423495  ],\n",
              "         [-0.39810178, -0.7028404 ,  0.36000568, ..., -0.80495095,\n",
              "          -0.55642086, -0.32774764],\n",
              "         [-0.00915717, -1.0733303 ,  0.44960505, ..., -0.5722495 ,\n",
              "           0.4936971 ,  0.30768326],\n",
              "         ...,\n",
              "         [ 0.5499909 , -0.07460247,  0.603682  , ...,  0.02691339,\n",
              "          -0.14225659, -0.02643682],\n",
              "         [-0.2797792 ,  0.02030627,  0.49319124, ...,  0.35643587,\n",
              "          -0.4591298 ,  0.35145816],\n",
              "         [ 0.08406955, -0.04419895,  0.6304248 , ...,  0.62554306,\n",
              "          -0.37572736, -0.00613604]]], dtype=float32)>,\n",
              " <tf.Tensor: shape=(3, 128, 768), dtype=float32, numpy=\n",
              " array([[[ 0.38828456,  0.43485045, -0.00305861, ..., -0.11524571,\n",
              "          -0.0870204 ,  0.19796617],\n",
              "         [ 0.43619987,  0.2780451 , -0.12282036, ..., -0.4616652 ,\n",
              "           0.51119095, -0.11277799],\n",
              "         [ 1.1603421 ,  0.80219394,  0.49689302, ..., -0.05016546,\n",
              "           0.43671438,  0.16748466],\n",
              "         ...,\n",
              "         [ 0.5650912 ,  0.52560675,  0.9950661 , ...,  0.23585148,\n",
              "          -0.3336112 , -0.1061589 ],\n",
              "         [ 0.3779545 ,  0.29136226,  0.8638747 , ...,  0.37420473,\n",
              "          -0.37460616, -0.2991029 ],\n",
              "         [-0.5079775 , -0.39100036,  0.7629682 , ...,  0.49895263,\n",
              "          -0.5656423 , -0.5835224 ]],\n",
              " \n",
              "        [[ 0.32496855,  0.27099416,  0.07539514, ..., -0.5248729 ,\n",
              "          -0.29960614,  0.42011064],\n",
              "         [-0.2161024 , -0.2623353 , -0.8080505 , ..., -0.78277135,\n",
              "           0.2421385 , -0.72475636],\n",
              "         [ 0.47802377, -0.6913349 ,  0.26437458, ..., -0.7228882 ,\n",
              "           0.6388668 ,  0.9660975 ],\n",
              "         ...,\n",
              "         [ 0.09968708, -0.05259966,  0.6399415 , ..., -0.35871843,\n",
              "          -0.5016631 , -0.47143346],\n",
              "         [-0.15714262, -0.06077189,  0.7824114 , ..., -0.2614977 ,\n",
              "          -0.5494711 , -0.57462436],\n",
              "         [ 0.047249  , -0.23972811,  0.81820714, ..., -0.12488869,\n",
              "          -0.6085112 , -0.64792955]],\n",
              " \n",
              "        [[ 0.4726472 , -0.07413182,  0.30480286, ..., -0.5509547 ,\n",
              "          -0.19143502,  0.11464202],\n",
              "         [-0.13917063, -0.7158452 , -0.17559877, ..., -1.2559882 ,\n",
              "          -0.674859  ,  0.07002977],\n",
              "         [-0.23890693, -0.94596815,  0.07326237, ..., -0.63544184,\n",
              "           0.22539061,  0.38984683],\n",
              "         ...,\n",
              "         [ 0.3720773 , -0.46739084,  0.34566745, ..., -0.67911714,\n",
              "          -0.29092136,  0.21775196],\n",
              "         [-0.14670889, -0.30063263,  0.2796107 , ..., -0.25835004,\n",
              "          -0.55122113,  0.53285426],\n",
              "         [ 0.06021491, -0.3326541 ,  0.39901367, ...,  0.00423527,\n",
              "          -0.41640946,  0.28253213]]], dtype=float32)>,\n",
              " <tf.Tensor: shape=(3, 128, 768), dtype=float32, numpy=\n",
              " array([[[ 0.13989714,  0.30410826,  0.06352297, ..., -0.10268718,\n",
              "           0.22148415,  0.149779  ],\n",
              "         [ 0.3213734 ,  0.29354593, -0.1408113 , ..., -0.20841485,\n",
              "           0.8356771 ,  0.20442364],\n",
              "         [ 1.1886758 ,  0.64992356,  0.67424935, ...,  0.10617817,\n",
              "           0.41522315, -0.23921788],\n",
              "         ...,\n",
              "         [ 0.20025288,  0.2712966 ,  0.4500041 , ...,  0.22973931,\n",
              "           0.02177422,  0.11564764],\n",
              "         [ 0.12034723,  0.1726704 ,  0.36960527, ...,  0.277618  ,\n",
              "           0.02981649,  0.06090213],\n",
              "         [-0.23403431, -0.10138147,  0.34712183, ...,  0.44735387,\n",
              "           0.04013278, -0.04988691]],\n",
              " \n",
              "        [[-0.02354234,  0.37282184, -0.09210153, ..., -0.44056383,\n",
              "           0.01131824,  0.33282456],\n",
              "         [-0.61942905, -0.2867513 , -0.7241891 , ..., -0.3831982 ,\n",
              "           0.31782785, -0.2673176 ],\n",
              "         [ 0.22915015, -0.2607807 , -0.25905165, ..., -0.3867034 ,\n",
              "           0.5324209 ,  0.7462699 ],\n",
              "         ...,\n",
              "         [ 0.03039799,  0.00430586,  0.36881196, ..., -0.07569645,\n",
              "          -0.14002267, -0.04536352],\n",
              "         [-0.04000743, -0.01646761,  0.41010907, ..., -0.04975202,\n",
              "          -0.14448294, -0.0768888 ],\n",
              "         [ 0.02779415, -0.08786305,  0.40672058, ..., -0.01367268,\n",
              "          -0.15657687, -0.11102623]],\n",
              " \n",
              "        [[ 0.2207399 ,  0.01413433,  0.0644369 , ..., -0.17645858,\n",
              "           0.19920689,  0.19690737],\n",
              "         [-0.1470479 , -0.54524785, -0.10819128, ..., -0.8173358 ,\n",
              "           0.23186433,  0.19307567],\n",
              "         [-0.05048917, -0.7160363 , -0.00176229, ..., -0.46848074,\n",
              "           0.0476124 , -0.22504447],\n",
              "         ...,\n",
              "         [ 0.01195145, -0.22026901,  0.3875023 , ..., -0.32334274,\n",
              "           0.13460842,  0.17516048],\n",
              "         [-0.14100355, -0.20604494,  0.2578197 , ..., -0.16094592,\n",
              "           0.04925302,  0.2430501 ],\n",
              "         [-0.06052955, -0.22084375,  0.32424736, ..., -0.06742828,\n",
              "           0.09591131,  0.17549211]]], dtype=float32)>]"
            ]
          },
          "metadata": {
            "tags": []
          },
          "execution_count": 30
        }
      ]
    },
    {
      "cell_type": "code",
      "metadata": {
        "colab": {
          "base_uri": "https://localhost:8080/"
        },
        "id": "7HfxRuupmbqS",
        "outputId": "928df477-05df-480f-b04b-4b2a3558ba4a"
      },
      "source": [
        "# check if encoder output[-1] is same as pooled_output last embedding\n",
        "\n",
        "bert_results['encoder_outputs'][-1] == bert_results['sequence_output']"
      ],
      "execution_count": null,
      "outputs": [
        {
          "output_type": "execute_result",
          "data": {
            "text/plain": [
              "<tf.Tensor: shape=(3, 128, 768), dtype=bool, numpy=\n",
              "array([[[ True,  True,  True, ...,  True,  True,  True],\n",
              "        [ True,  True,  True, ...,  True,  True,  True],\n",
              "        [ True,  True,  True, ...,  True,  True,  True],\n",
              "        ...,\n",
              "        [ True,  True,  True, ...,  True,  True,  True],\n",
              "        [ True,  True,  True, ...,  True,  True,  True],\n",
              "        [ True,  True,  True, ...,  True,  True,  True]],\n",
              "\n",
              "       [[ True,  True,  True, ...,  True,  True,  True],\n",
              "        [ True,  True,  True, ...,  True,  True,  True],\n",
              "        [ True,  True,  True, ...,  True,  True,  True],\n",
              "        ...,\n",
              "        [ True,  True,  True, ...,  True,  True,  True],\n",
              "        [ True,  True,  True, ...,  True,  True,  True],\n",
              "        [ True,  True,  True, ...,  True,  True,  True]],\n",
              "\n",
              "       [[ True,  True,  True, ...,  True,  True,  True],\n",
              "        [ True,  True,  True, ...,  True,  True,  True],\n",
              "        [ True,  True,  True, ...,  True,  True,  True],\n",
              "        ...,\n",
              "        [ True,  True,  True, ...,  True,  True,  True],\n",
              "        [ True,  True,  True, ...,  True,  True,  True],\n",
              "        [ True,  True,  True, ...,  True,  True,  True]]])>"
            ]
          },
          "metadata": {
            "tags": []
          },
          "execution_count": 34
        }
      ]
    },
    {
      "cell_type": "code",
      "metadata": {
        "id": "sk8LklNlnhrI"
      },
      "source": [
        ""
      ],
      "execution_count": null,
      "outputs": []
    }
  ]
}